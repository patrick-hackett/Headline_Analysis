{
 "cells": [
  {
   "cell_type": "markdown",
   "id": "fad85193",
   "metadata": {},
   "source": [
    "Import necessary libraries and functions"
   ]
  },
  {
   "cell_type": "code",
   "execution_count": 1,
   "id": "db651aaa",
   "metadata": {},
   "outputs": [
    {
     "name": "stderr",
     "output_type": "stream",
     "text": [
      "[nltk_data] Downloading package vader_lexicon to\n",
      "[nltk_data]     /Users/christine/hueco_mundo/hueco_mundo/nltk_data...\n",
      "[nltk_data]   Package vader_lexicon is already up-to-date!\n"
     ]
    }
   ],
   "source": [
    "import pandas as pd\n",
    "import matplotlib.pyplot as plt\n",
    "import nltk\n",
    "from nltk.tokenize import word_tokenize\n",
    "nltk.download('vader_lexicon')\n",
    "from nltk.sentiment.vader import SentimentIntensityAnalyzer"
   ]
  },
  {
   "cell_type": "markdown",
   "id": "f4f73fcd",
   "metadata": {},
   "source": [
    "Use custom web scraping function to extract headlines from Fox news' website as csv, compile all headlines into a single DataFrame"
   ]
  },
  {
   "cell_type": "code",
   "execution_count": 2,
   "id": "6d0aa410",
   "metadata": {},
   "outputs": [
    {
     "data": {
      "text/plain": [
       "pandas.core.frame.DataFrame"
      ]
     },
     "execution_count": 2,
     "metadata": {},
     "output_type": "execute_result"
    }
   ],
   "source": [
    "from Scrape import MakeHoney\n",
    "from csv2list import csv2list\n",
    "\n",
    "#scrape = MakeHoney(word_thresh=8,save_as='fox_scrape09292021')\n",
    "\n",
    "files = ['scraped_pages/fox_scrape09092021.csv','scraped_pages/fox_scrape09102021.csv',\n",
    "         'scraped_pages/fox_scrape09112021.csv','scraped_pages/fox_scrape09122021.csv',\n",
    "         'scraped_pages/fox_scrape09122021B.csv','scraped_pages/fox_scrape09132021.csv',\n",
    "         'scraped_pages/fox_scrape09142021.csv','scraped_pages/fox_scrape09152021.csv',\n",
    "         'scraped_pages/fox_scrape09202021.csv','fox_scrape09212021.csv','fox_scrape09242021.csv',\n",
    "         'fox_scrape09252021.csv','fox_scrape09292021.csv']\n",
    "\n",
    "Fox = pd.concat(map(pd.read_csv,files))\n",
    "Fox = Fox.drop(columns=['Unnamed: 0'])\n",
    "Fox = Fox.drop_duplicates()\n",
    "\n",
    "type(Fox)"
   ]
  },
  {
   "cell_type": "markdown",
   "id": "1302fda1",
   "metadata": {},
   "source": [
    "Use NLTK's VADER algorithm to produce compound sentiment/polarity scores for each headline "
   ]
  },
  {
   "cell_type": "code",
   "execution_count": 3,
   "id": "5be35f32",
   "metadata": {},
   "outputs": [],
   "source": [
    "vader = SentimentIntensityAnalyzer()\n",
    "\n",
    "Fox['Scores'] = Fox['Headline'].apply(lambda x: vader.polarity_scores(x))\n",
    "Fox['Score'] = Fox['Scores'].apply(lambda dict: dict['compound'])\n",
    "\n",
    "\n",
    "#Fox.head(20)"
   ]
  },
  {
   "cell_type": "markdown",
   "id": "cbc77037",
   "metadata": {},
   "source": [
    "Apply TextBlob's subjectivity metrics to the headlines, and include polarity scores for robustness"
   ]
  },
  {
   "cell_type": "code",
   "execution_count": 4,
   "id": "366c262b",
   "metadata": {},
   "outputs": [],
   "source": [
    "from textblob import TextBlob\n",
    "\n",
    "fox = Fox.loc[:,['Headline']]\n",
    "\n",
    "fox['Polarity'] = fox['Headline'].apply(lambda x: TextBlob(x).sentiment.polarity)\n",
    "fox['Subjectivity'] = fox['Headline'].apply(lambda x: TextBlob(x).sentiment.subjectivity)\n",
    "fox['VADER_compound'] = Fox['Score']\n",
    "#fox.head(50)"
   ]
  },
  {
   "cell_type": "markdown",
   "id": "8308a22e",
   "metadata": {},
   "source": [
    "Average the TextBlob and VADER polarity metrics and assign it to it's own column"
   ]
  },
  {
   "cell_type": "code",
   "execution_count": 5,
   "id": "9f81d7a3",
   "metadata": {},
   "outputs": [
    {
     "data": {
      "text/html": [
       "<div>\n",
       "<style scoped>\n",
       "    .dataframe tbody tr th:only-of-type {\n",
       "        vertical-align: middle;\n",
       "    }\n",
       "\n",
       "    .dataframe tbody tr th {\n",
       "        vertical-align: top;\n",
       "    }\n",
       "\n",
       "    .dataframe thead th {\n",
       "        text-align: right;\n",
       "    }\n",
       "</style>\n",
       "<table border=\"1\" class=\"dataframe\">\n",
       "  <thead>\n",
       "    <tr style=\"text-align: right;\">\n",
       "      <th></th>\n",
       "      <th>Headline</th>\n",
       "      <th>Polarity</th>\n",
       "      <th>Subjectivity</th>\n",
       "      <th>VADER_compound</th>\n",
       "      <th>avg_polarity</th>\n",
       "    </tr>\n",
       "  </thead>\n",
       "  <tbody>\n",
       "    <tr>\n",
       "      <th>0</th>\n",
       "      <td>Biden admin trying to reverse all of Trump's accomplishments: Tammy Bruce</td>\n",
       "      <td>0.000000</td>\n",
       "      <td>0.000000</td>\n",
       "      <td>0.0000</td>\n",
       "      <td>0.000000</td>\n",
       "    </tr>\n",
       "    <tr>\n",
       "      <th>1</th>\n",
       "      <td>Chip Roy: Fentanyl overdoses skyrocketing because Biden refuses to secure the border</td>\n",
       "      <td>0.400000</td>\n",
       "      <td>0.600000</td>\n",
       "      <td>0.3400</td>\n",
       "      <td>0.370000</td>\n",
       "    </tr>\n",
       "    <tr>\n",
       "      <th>2</th>\n",
       "      <td>Rep. Mike Gallagher on why Dr. Anthony Fauci must resign</td>\n",
       "      <td>0.000000</td>\n",
       "      <td>0.000000</td>\n",
       "      <td>-0.3400</td>\n",
       "      <td>-0.170000</td>\n",
       "    </tr>\n",
       "    <tr>\n",
       "      <th>3</th>\n",
       "      <td>‘The Lost Calls of 9/11’ debuts on Fox Nation</td>\n",
       "      <td>0.000000</td>\n",
       "      <td>0.000000</td>\n",
       "      <td>-0.3182</td>\n",
       "      <td>-0.159100</td>\n",
       "    </tr>\n",
       "    <tr>\n",
       "      <th>4</th>\n",
       "      <td>Former CIA senior intel officer says moral obligation in Afghanistan is to get US allies out</td>\n",
       "      <td>0.000000</td>\n",
       "      <td>0.125000</td>\n",
       "      <td>0.0000</td>\n",
       "      <td>0.000000</td>\n",
       "    </tr>\n",
       "    <tr>\n",
       "      <th>5</th>\n",
       "      <td>Trump praises Gutfeld: Your ratings are great but beating untalented people</td>\n",
       "      <td>0.800000</td>\n",
       "      <td>0.750000</td>\n",
       "      <td>-0.0644</td>\n",
       "      <td>0.367800</td>\n",
       "    </tr>\n",
       "    <tr>\n",
       "      <th>6</th>\n",
       "      <td>Chris Wallace talks bringing 9/11 architect to justice</td>\n",
       "      <td>0.000000</td>\n",
       "      <td>0.000000</td>\n",
       "      <td>0.5267</td>\n",
       "      <td>0.263350</td>\n",
       "    </tr>\n",
       "    <tr>\n",
       "      <th>7</th>\n",
       "      <td>Immunologist analyzes messaging from Biden administration on vaccines</td>\n",
       "      <td>0.000000</td>\n",
       "      <td>0.000000</td>\n",
       "      <td>0.0000</td>\n",
       "      <td>0.000000</td>\n",
       "    </tr>\n",
       "    <tr>\n",
       "      <th>8</th>\n",
       "      <td>Kayleigh McEnany shreds 'Orwellian dictatorial tactics and edicts of the left'</td>\n",
       "      <td>0.000000</td>\n",
       "      <td>0.000000</td>\n",
       "      <td>0.0000</td>\n",
       "      <td>0.000000</td>\n",
       "    </tr>\n",
       "    <tr>\n",
       "      <th>9</th>\n",
       "      <td>Exclusive whistleblower account: Afghan refugees leaving U.S. bases without being fully vetted</td>\n",
       "      <td>0.000000</td>\n",
       "      <td>0.000000</td>\n",
       "      <td>0.1280</td>\n",
       "      <td>0.064000</td>\n",
       "    </tr>\n",
       "    <tr>\n",
       "      <th>10</th>\n",
       "      <td>President will dictate vaccine, testing requirement for 100M Americans, ratchet up fines for maskless</td>\n",
       "      <td>0.000000</td>\n",
       "      <td>0.000000</td>\n",
       "      <td>0.0000</td>\n",
       "      <td>0.000000</td>\n",
       "    </tr>\n",
       "    <tr>\n",
       "      <th>11</th>\n",
       "      <td>Biden admin throws full force of federal government at state over abortion law</td>\n",
       "      <td>0.350000</td>\n",
       "      <td>0.550000</td>\n",
       "      <td>0.0000</td>\n",
       "      <td>0.175000</td>\n",
       "    </tr>\n",
       "    <tr>\n",
       "      <th>12</th>\n",
       "      <td>President 'weaponizing' justice system by targeting GOP-led states: experts</td>\n",
       "      <td>0.000000</td>\n",
       "      <td>0.000000</td>\n",
       "      <td>0.5267</td>\n",
       "      <td>0.263350</td>\n",
       "    </tr>\n",
       "    <tr>\n",
       "      <th>13</th>\n",
       "      <td>Newsom supporters blast Elder, invoke race following gorilla mask controversy</td>\n",
       "      <td>0.000000</td>\n",
       "      <td>0.100000</td>\n",
       "      <td>0.4404</td>\n",
       "      <td>0.220200</td>\n",
       "    </tr>\n",
       "    <tr>\n",
       "      <th>14</th>\n",
       "      <td>Rock legend Phil Collins reveals consequences of declining health</td>\n",
       "      <td>0.000000</td>\n",
       "      <td>0.000000</td>\n",
       "      <td>0.0000</td>\n",
       "      <td>0.000000</td>\n",
       "    </tr>\n",
       "    <tr>\n",
       "      <th>15</th>\n",
       "      <td>Biden officials praised Bergdahl prisoner swap that released terrorists now in Taliban cabinet</td>\n",
       "      <td>0.000000</td>\n",
       "      <td>0.000000</td>\n",
       "      <td>-0.6597</td>\n",
       "      <td>-0.329850</td>\n",
       "    </tr>\n",
       "    <tr>\n",
       "      <th>16</th>\n",
       "      <td>Zeldin: 20 years after 9/11, 'infuriating' that Taliban control Afghanistan again</td>\n",
       "      <td>-0.600000</td>\n",
       "      <td>0.800000</td>\n",
       "      <td>0.0000</td>\n",
       "      <td>-0.300000</td>\n",
       "    </tr>\n",
       "    <tr>\n",
       "      <th>17</th>\n",
       "      <td>Psaki won't say if Biden wrong to declare victory over COVID in July</td>\n",
       "      <td>-0.500000</td>\n",
       "      <td>0.900000</td>\n",
       "      <td>-0.4767</td>\n",
       "      <td>-0.488350</td>\n",
       "    </tr>\n",
       "    <tr>\n",
       "      <th>18</th>\n",
       "      <td>California-born Afghan-American says voters 'expected a lot more from' VP Harris</td>\n",
       "      <td>0.200000</td>\n",
       "      <td>0.450000</td>\n",
       "      <td>0.0000</td>\n",
       "      <td>0.100000</td>\n",
       "    </tr>\n",
       "    <tr>\n",
       "      <th>19</th>\n",
       "      <td>Biden to campaign for California Gov. Gavin Newsom day before recall election</td>\n",
       "      <td>0.000000</td>\n",
       "      <td>0.000000</td>\n",
       "      <td>0.0000</td>\n",
       "      <td>0.000000</td>\n",
       "    </tr>\n",
       "    <tr>\n",
       "      <th>20</th>\n",
       "      <td>White House defends calling Taliban 'cooperative and businesslike' in negotiations on Americans leaving</td>\n",
       "      <td>0.000000</td>\n",
       "      <td>0.000000</td>\n",
       "      <td>0.0000</td>\n",
       "      <td>0.000000</td>\n",
       "    </tr>\n",
       "    <tr>\n",
       "      <th>21</th>\n",
       "      <td>Guantanamo Bay: 20 years after 9/11, what is happening at the prison?</td>\n",
       "      <td>0.000000</td>\n",
       "      <td>0.000000</td>\n",
       "      <td>-0.5106</td>\n",
       "      <td>-0.255300</td>\n",
       "    </tr>\n",
       "    <tr>\n",
       "      <th>22</th>\n",
       "      <td>Psaki defends Fauci amid allegations he lied to Congress when pressed by Doocy: 'What he said was correct'</td>\n",
       "      <td>0.000000</td>\n",
       "      <td>0.000000</td>\n",
       "      <td>-0.3818</td>\n",
       "      <td>-0.190900</td>\n",
       "    </tr>\n",
       "    <tr>\n",
       "      <th>23</th>\n",
       "      <td>New 9/11 exhibit shares story behind World Trade Center rebuild</td>\n",
       "      <td>-0.121212</td>\n",
       "      <td>0.418182</td>\n",
       "      <td>0.2960</td>\n",
       "      <td>0.087394</td>\n",
       "    </tr>\n",
       "    <tr>\n",
       "      <th>24</th>\n",
       "      <td>NYPD leaders among those honoring 9/11 heroes, first responders by running to raise money for Tunnel 2 Towers</td>\n",
       "      <td>0.250000</td>\n",
       "      <td>0.333333</td>\n",
       "      <td>0.7650</td>\n",
       "      <td>0.507500</td>\n",
       "    </tr>\n",
       "    <tr>\n",
       "      <th>25</th>\n",
       "      <td>Federal 'racism' task force trashes America's founding documents</td>\n",
       "      <td>0.000000</td>\n",
       "      <td>0.000000</td>\n",
       "      <td>0.0000</td>\n",
       "      <td>0.000000</td>\n",
       "    </tr>\n",
       "    <tr>\n",
       "      <th>26</th>\n",
       "      <td>South Carolina 4-sentence incident report on Alex Murdaugh shooting: 'Further investigation required'</td>\n",
       "      <td>0.000000</td>\n",
       "      <td>0.500000</td>\n",
       "      <td>0.0000</td>\n",
       "      <td>0.000000</td>\n",
       "    </tr>\n",
       "    <tr>\n",
       "      <th>27</th>\n",
       "      <td>Boston 9/11 display with American flags honoring victims vandalized</td>\n",
       "      <td>0.000000</td>\n",
       "      <td>0.000000</td>\n",
       "      <td>0.2500</td>\n",
       "      <td>0.125000</td>\n",
       "    </tr>\n",
       "    <tr>\n",
       "      <th>28</th>\n",
       "      <td>2022 Chevrolet Silverado revealed with ZR2 extreme off-road model and hands-free Super Cruise tech</td>\n",
       "      <td>0.104167</td>\n",
       "      <td>0.833333</td>\n",
       "      <td>0.5994</td>\n",
       "      <td>0.351783</td>\n",
       "    </tr>\n",
       "    <tr>\n",
       "      <th>29</th>\n",
       "      <td>Biden's historic food-stamp increase could hurt long-term economic growth, wages</td>\n",
       "      <td>0.100000</td>\n",
       "      <td>0.100000</td>\n",
       "      <td>0.1280</td>\n",
       "      <td>0.114000</td>\n",
       "    </tr>\n",
       "  </tbody>\n",
       "</table>\n",
       "</div>"
      ],
      "text/plain": [
       "                                                                                                         Headline  \\\n",
       "0                                       Biden admin trying to reverse all of Trump's accomplishments: Tammy Bruce   \n",
       "1                            Chip Roy: Fentanyl overdoses skyrocketing because Biden refuses to secure the border   \n",
       "2                                                        Rep. Mike Gallagher on why Dr. Anthony Fauci must resign   \n",
       "3                                                                   ‘The Lost Calls of 9/11’ debuts on Fox Nation   \n",
       "4                    Former CIA senior intel officer says moral obligation in Afghanistan is to get US allies out   \n",
       "5                                     Trump praises Gutfeld: Your ratings are great but beating untalented people   \n",
       "6                                                          Chris Wallace talks bringing 9/11 architect to justice   \n",
       "7                                           Immunologist analyzes messaging from Biden administration on vaccines   \n",
       "8                                  Kayleigh McEnany shreds 'Orwellian dictatorial tactics and edicts of the left'   \n",
       "9                  Exclusive whistleblower account: Afghan refugees leaving U.S. bases without being fully vetted   \n",
       "10          President will dictate vaccine, testing requirement for 100M Americans, ratchet up fines for maskless   \n",
       "11                                 Biden admin throws full force of federal government at state over abortion law   \n",
       "12                                    President 'weaponizing' justice system by targeting GOP-led states: experts   \n",
       "13                                  Newsom supporters blast Elder, invoke race following gorilla mask controversy   \n",
       "14                                              Rock legend Phil Collins reveals consequences of declining health   \n",
       "15                 Biden officials praised Bergdahl prisoner swap that released terrorists now in Taliban cabinet   \n",
       "16                              Zeldin: 20 years after 9/11, 'infuriating' that Taliban control Afghanistan again   \n",
       "17                                           Psaki won't say if Biden wrong to declare victory over COVID in July   \n",
       "18                               California-born Afghan-American says voters 'expected a lot more from' VP Harris   \n",
       "19                                  Biden to campaign for California Gov. Gavin Newsom day before recall election   \n",
       "20        White House defends calling Taliban 'cooperative and businesslike' in negotiations on Americans leaving   \n",
       "21                                          Guantanamo Bay: 20 years after 9/11, what is happening at the prison?   \n",
       "22     Psaki defends Fauci amid allegations he lied to Congress when pressed by Doocy: 'What he said was correct'   \n",
       "23                                                New 9/11 exhibit shares story behind World Trade Center rebuild   \n",
       "24  NYPD leaders among those honoring 9/11 heroes, first responders by running to raise money for Tunnel 2 Towers   \n",
       "25                                               Federal 'racism' task force trashes America's founding documents   \n",
       "26          South Carolina 4-sentence incident report on Alex Murdaugh shooting: 'Further investigation required'   \n",
       "27                                            Boston 9/11 display with American flags honoring victims vandalized   \n",
       "28             2022 Chevrolet Silverado revealed with ZR2 extreme off-road model and hands-free Super Cruise tech   \n",
       "29                               Biden's historic food-stamp increase could hurt long-term economic growth, wages   \n",
       "\n",
       "    Polarity  Subjectivity  VADER_compound  avg_polarity  \n",
       "0   0.000000      0.000000          0.0000      0.000000  \n",
       "1   0.400000      0.600000          0.3400      0.370000  \n",
       "2   0.000000      0.000000         -0.3400     -0.170000  \n",
       "3   0.000000      0.000000         -0.3182     -0.159100  \n",
       "4   0.000000      0.125000          0.0000      0.000000  \n",
       "5   0.800000      0.750000         -0.0644      0.367800  \n",
       "6   0.000000      0.000000          0.5267      0.263350  \n",
       "7   0.000000      0.000000          0.0000      0.000000  \n",
       "8   0.000000      0.000000          0.0000      0.000000  \n",
       "9   0.000000      0.000000          0.1280      0.064000  \n",
       "10  0.000000      0.000000          0.0000      0.000000  \n",
       "11  0.350000      0.550000          0.0000      0.175000  \n",
       "12  0.000000      0.000000          0.5267      0.263350  \n",
       "13  0.000000      0.100000          0.4404      0.220200  \n",
       "14  0.000000      0.000000          0.0000      0.000000  \n",
       "15  0.000000      0.000000         -0.6597     -0.329850  \n",
       "16 -0.600000      0.800000          0.0000     -0.300000  \n",
       "17 -0.500000      0.900000         -0.4767     -0.488350  \n",
       "18  0.200000      0.450000          0.0000      0.100000  \n",
       "19  0.000000      0.000000          0.0000      0.000000  \n",
       "20  0.000000      0.000000          0.0000      0.000000  \n",
       "21  0.000000      0.000000         -0.5106     -0.255300  \n",
       "22  0.000000      0.000000         -0.3818     -0.190900  \n",
       "23 -0.121212      0.418182          0.2960      0.087394  \n",
       "24  0.250000      0.333333          0.7650      0.507500  \n",
       "25  0.000000      0.000000          0.0000      0.000000  \n",
       "26  0.000000      0.500000          0.0000      0.000000  \n",
       "27  0.000000      0.000000          0.2500      0.125000  \n",
       "28  0.104167      0.833333          0.5994      0.351783  \n",
       "29  0.100000      0.100000          0.1280      0.114000  "
      ]
     },
     "execution_count": 5,
     "metadata": {},
     "output_type": "execute_result"
    }
   ],
   "source": [
    "import numpy as np\n",
    "\n",
    "pd.set_option('display.max_colwidth',None)\n",
    "\n",
    "fox['avg_polarity'] = (fox.Polarity + fox.VADER_compound)/2\n",
    "fox.head(30)"
   ]
  },
  {
   "cell_type": "markdown",
   "id": "29630b49",
   "metadata": {},
   "source": [
    "Evaluate headline metrics:\n",
    "    >Average Subjectivity across all headlines\n",
    "    >Average Subjectivity of all headlines with subjectivity scores above 0\n",
    "    >Average Polarity across all headlines\n",
    "    >Average Polarity of all headlines with polarity scores above 0"
   ]
  },
  {
   "cell_type": "code",
   "execution_count": 6,
   "id": "e413a0d6",
   "metadata": {},
   "outputs": [
    {
     "name": "stdout",
     "output_type": "stream",
     "text": [
      "Average Subjectivity of all Headlines:  0.26125676215229854\n"
     ]
    }
   ],
   "source": [
    "avg_subjectivity = np.mean(fox['Subjectivity'])\n",
    "print('Average Subjectivity of all Headlines: ',avg_subjectivity)"
   ]
  },
  {
   "cell_type": "code",
   "execution_count": 7,
   "id": "2382f5fd",
   "metadata": {},
   "outputs": [
    {
     "name": "stdout",
     "output_type": "stream",
     "text": [
      "Average Subjectivity of Subjective Headlines:  0.4493616309019534\n"
     ]
    }
   ],
   "source": [
    "subj_not_0 = fox.loc[fox['Subjectivity'] != 0, 'Subjectivity']\n",
    "avg_subj_not_0 = np.mean(subj_not_0)\n",
    "print('Average Subjectivity of Subjective Headlines: ',avg_subj_not_0)"
   ]
  },
  {
   "cell_type": "code",
   "execution_count": 8,
   "id": "50a4e212",
   "metadata": {},
   "outputs": [
    {
     "name": "stdout",
     "output_type": "stream",
     "text": [
      "Average Sentiment of all Headlines:  -0.0318295674793518\n"
     ]
    }
   ],
   "source": [
    "avg_polarity = np.mean(fox['avg_polarity'])\n",
    "print('Average Sentiment of all Headlines: ',avg_polarity)"
   ]
  },
  {
   "cell_type": "code",
   "execution_count": 9,
   "id": "0e171067",
   "metadata": {},
   "outputs": [
    {
     "name": "stdout",
     "output_type": "stream",
     "text": [
      "Average Sentiment of Headlines with Nonzero Polarity:  -0.04017880061550753\n"
     ]
    }
   ],
   "source": [
    "polarity_not_0 = fox.loc[fox['avg_polarity'] != 0,'avg_polarity']\n",
    "avg_polarity_not_0 = np.mean(polarity_not_0)\n",
    "print('Average Sentiment of Headlines with Nonzero Polarity: ',avg_polarity_not_0)"
   ]
  },
  {
   "cell_type": "markdown",
   "id": "4333efc6",
   "metadata": {},
   "source": [
    "Evaluate subjective headline distribution"
   ]
  },
  {
   "cell_type": "code",
   "execution_count": 10,
   "id": "af06394e",
   "metadata": {},
   "outputs": [
    {
     "name": "stdout",
     "output_type": "stream",
     "text": [
      "Num Headlines: 1333\n",
      "Highly Subjective Headlines: 332\n",
      "Highly Subjective Proportion: 0.2490622655663916\n"
     ]
    }
   ],
   "source": [
    "high_subjectivity = fox.loc[fox['Subjectivity'] >= 0.5, ['Headline','Subjectivity']]\n",
    "high_subjectivity.head(30)\n",
    "\n",
    "print('Num Headlines: ' + str(len(fox)))\n",
    "print('Highly Subjective Headlines: ' + str(len(high_subjectivity)))\n",
    "\n",
    "print('Highly Subjective Proportion: ' + str(len(high_subjectivity)/len(fox)))"
   ]
  },
  {
   "cell_type": "code",
   "execution_count": 11,
   "id": "c70c16cd",
   "metadata": {},
   "outputs": [
    {
     "name": "stdout",
     "output_type": "stream",
     "text": [
      "Objective Headlines:  558\n"
     ]
    }
   ],
   "source": [
    "objective = fox[fox['Subjectivity'] == 0]\n",
    "print('Objective Headlines: ',len(objective))"
   ]
  },
  {
   "cell_type": "markdown",
   "id": "d0e2ff54",
   "metadata": {},
   "source": [
    "Define binary column to describe if each headline is sentiment-neutral"
   ]
  },
  {
   "cell_type": "code",
   "execution_count": 12,
   "id": "6654b126",
   "metadata": {},
   "outputs": [
    {
     "data": {
      "text/html": [
       "<div>\n",
       "<style scoped>\n",
       "    .dataframe tbody tr th:only-of-type {\n",
       "        vertical-align: middle;\n",
       "    }\n",
       "\n",
       "    .dataframe tbody tr th {\n",
       "        vertical-align: top;\n",
       "    }\n",
       "\n",
       "    .dataframe thead th {\n",
       "        text-align: right;\n",
       "    }\n",
       "</style>\n",
       "<table border=\"1\" class=\"dataframe\">\n",
       "  <thead>\n",
       "    <tr style=\"text-align: right;\">\n",
       "      <th></th>\n",
       "      <th>Headline</th>\n",
       "      <th>avg_polarity</th>\n",
       "      <th>Subjectivity</th>\n",
       "      <th>Neutral</th>\n",
       "    </tr>\n",
       "  </thead>\n",
       "  <tbody>\n",
       "    <tr>\n",
       "      <th>0</th>\n",
       "      <td>Biden admin trying to reverse all of Trump's accomplishments: Tammy Bruce</td>\n",
       "      <td>0.0000</td>\n",
       "      <td>0.000</td>\n",
       "      <td>1</td>\n",
       "    </tr>\n",
       "    <tr>\n",
       "      <th>1</th>\n",
       "      <td>Chip Roy: Fentanyl overdoses skyrocketing because Biden refuses to secure the border</td>\n",
       "      <td>0.3700</td>\n",
       "      <td>0.600</td>\n",
       "      <td>0</td>\n",
       "    </tr>\n",
       "    <tr>\n",
       "      <th>2</th>\n",
       "      <td>Rep. Mike Gallagher on why Dr. Anthony Fauci must resign</td>\n",
       "      <td>-0.1700</td>\n",
       "      <td>0.000</td>\n",
       "      <td>0</td>\n",
       "    </tr>\n",
       "    <tr>\n",
       "      <th>3</th>\n",
       "      <td>‘The Lost Calls of 9/11’ debuts on Fox Nation</td>\n",
       "      <td>-0.1591</td>\n",
       "      <td>0.000</td>\n",
       "      <td>0</td>\n",
       "    </tr>\n",
       "    <tr>\n",
       "      <th>4</th>\n",
       "      <td>Former CIA senior intel officer says moral obligation in Afghanistan is to get US allies out</td>\n",
       "      <td>0.0000</td>\n",
       "      <td>0.125</td>\n",
       "      <td>1</td>\n",
       "    </tr>\n",
       "  </tbody>\n",
       "</table>\n",
       "</div>"
      ],
      "text/plain": [
       "                                                                                       Headline  \\\n",
       "0                     Biden admin trying to reverse all of Trump's accomplishments: Tammy Bruce   \n",
       "1          Chip Roy: Fentanyl overdoses skyrocketing because Biden refuses to secure the border   \n",
       "2                                      Rep. Mike Gallagher on why Dr. Anthony Fauci must resign   \n",
       "3                                                 ‘The Lost Calls of 9/11’ debuts on Fox Nation   \n",
       "4  Former CIA senior intel officer says moral obligation in Afghanistan is to get US allies out   \n",
       "\n",
       "   avg_polarity  Subjectivity  Neutral  \n",
       "0        0.0000         0.000        1  \n",
       "1        0.3700         0.600        0  \n",
       "2       -0.1700         0.000        0  \n",
       "3       -0.1591         0.000        0  \n",
       "4        0.0000         0.125        1  "
      ]
     },
     "execution_count": 12,
     "metadata": {},
     "output_type": "execute_result"
    }
   ],
   "source": [
    "def neu(x):\n",
    "    if 0.05 > x > -0.05:\n",
    "        return 1\n",
    "    else:\n",
    "        return 0\n",
    "    \n",
    "foxy = fox.loc[:, ['Headline','avg_polarity','Subjectivity']]\n",
    "foxy['Neutral'] = foxy['avg_polarity'].apply(lambda x: neu(x))\n",
    "#foxy = foxy.drop(columns=['avg_polarity'])\n",
    "\n",
    "foxy.head()"
   ]
  },
  {
   "cell_type": "code",
   "execution_count": 13,
   "id": "ebf8dbbc",
   "metadata": {},
   "outputs": [],
   "source": [
    "foxy.Neutral.value_counts()\n",
    "\n",
    "headlines = [headline for headline in foxy['Headline']]\n",
    "\n",
    "from sklearn.feature_extraction.text import CountVectorizer\n",
    "\n",
    "mix_gram = CountVectorizer(ngram_range=(1,2),max_features=5)\n",
    "doc_mtx = mix_gram.fit_transform(headlines)"
   ]
  },
  {
   "cell_type": "markdown",
   "id": "db63a858",
   "metadata": {},
   "source": [
    "Create custom dataset to evaluate context surrounding a given word or words"
   ]
  },
  {
   "cell_type": "code",
   "execution_count": 14,
   "id": "bc952716",
   "metadata": {},
   "outputs": [
    {
     "data": {
      "text/plain": [
       "172"
      ]
     },
     "execution_count": 14,
     "metadata": {},
     "output_type": "execute_result"
    }
   ],
   "source": [
    "df = fox.loc[:,['Headline','avg_polarity']]\n",
    "\n",
    "biden = []\n",
    "for headline in df['Headline']:\n",
    "    list1 = ['biden']\n",
    "    list2 = ['Biden']\n",
    "    list3 = ['biden','vaccines']\n",
    "    list4 = ['biden','vaccinations']\n",
    "    hline = word_tokenize(str(headline))\n",
    "    #list2 = ['Biden','COVID-19']\n",
    "    if all(item in hline for item in list1):\n",
    "        biden.append(headline)\n",
    "    elif all(item in hline for item in list2):\n",
    "        biden.append(headline)\n",
    "    #elif all(item in hline for item in list3):\n",
    "        #biden.append(headline)\n",
    "    #elif all(item in hline for item in list4):\n",
    "        #biden.append(headline)\n",
    "    \n",
    "\n",
    "len(biden)"
   ]
  },
  {
   "cell_type": "code",
   "execution_count": 15,
   "id": "ba258a75",
   "metadata": {},
   "outputs": [
    {
     "data": {
      "text/html": [
       "<div>\n",
       "<style scoped>\n",
       "    .dataframe tbody tr th:only-of-type {\n",
       "        vertical-align: middle;\n",
       "    }\n",
       "\n",
       "    .dataframe tbody tr th {\n",
       "        vertical-align: top;\n",
       "    }\n",
       "\n",
       "    .dataframe thead th {\n",
       "        text-align: right;\n",
       "    }\n",
       "</style>\n",
       "<table border=\"1\" class=\"dataframe\">\n",
       "  <thead>\n",
       "    <tr style=\"text-align: right;\">\n",
       "      <th></th>\n",
       "      <th>Headline</th>\n",
       "      <th>Polarity</th>\n",
       "      <th>Subjectivity</th>\n",
       "    </tr>\n",
       "  </thead>\n",
       "  <tbody>\n",
       "    <tr>\n",
       "      <th>0</th>\n",
       "      <td>Biden admin trying to reverse all of Trump's accomplishments: Tammy Bruce</td>\n",
       "      <td>0.000000</td>\n",
       "      <td>0.000000</td>\n",
       "    </tr>\n",
       "    <tr>\n",
       "      <th>1</th>\n",
       "      <td>Chip Roy: Fentanyl overdoses skyrocketing because Biden refuses to secure the border</td>\n",
       "      <td>0.370000</td>\n",
       "      <td>0.600000</td>\n",
       "    </tr>\n",
       "    <tr>\n",
       "      <th>2</th>\n",
       "      <td>Immunologist analyzes messaging from Biden administration on vaccines</td>\n",
       "      <td>0.000000</td>\n",
       "      <td>0.000000</td>\n",
       "    </tr>\n",
       "    <tr>\n",
       "      <th>3</th>\n",
       "      <td>Biden admin throws full force of federal government at state over abortion law</td>\n",
       "      <td>0.175000</td>\n",
       "      <td>0.550000</td>\n",
       "    </tr>\n",
       "    <tr>\n",
       "      <th>4</th>\n",
       "      <td>Biden officials praised Bergdahl prisoner swap that released terrorists now in Taliban cabinet</td>\n",
       "      <td>-0.329850</td>\n",
       "      <td>0.000000</td>\n",
       "    </tr>\n",
       "    <tr>\n",
       "      <th>...</th>\n",
       "      <td>...</td>\n",
       "      <td>...</td>\n",
       "      <td>...</td>\n",
       "    </tr>\n",
       "    <tr>\n",
       "      <th>167</th>\n",
       "      <td>Jason Chaffetz: If Biden, Dems' $3.5T cradle-to-grave welfare state happens here's what America will be like</td>\n",
       "      <td>0.180600</td>\n",
       "      <td>0.000000</td>\n",
       "    </tr>\n",
       "    <tr>\n",
       "      <th>168</th>\n",
       "      <td>Rep. Mike Turner: Biden's failed Afghanistan drone strike begs questions Gen. Milley must answer</td>\n",
       "      <td>-0.542950</td>\n",
       "      <td>0.300000</td>\n",
       "    </tr>\n",
       "    <tr>\n",
       "      <th>169</th>\n",
       "      <td>Greg Gutfeld: What happened to the adults we were promised in the Biden administration?</td>\n",
       "      <td>0.180600</td>\n",
       "      <td>0.000000</td>\n",
       "    </tr>\n",
       "    <tr>\n",
       "      <th>170</th>\n",
       "      <td>Biden team 'clearly' didn't listen to military commanders on Afghanistan: Grant</td>\n",
       "      <td>0.180600</td>\n",
       "      <td>0.241667</td>\n",
       "    </tr>\n",
       "    <tr>\n",
       "      <th>171</th>\n",
       "      <td>Border counties to sue Biden for 'failure to enforce the laws'</td>\n",
       "      <td>-0.413633</td>\n",
       "      <td>0.300000</td>\n",
       "    </tr>\n",
       "  </tbody>\n",
       "</table>\n",
       "<p>172 rows × 3 columns</p>\n",
       "</div>"
      ],
      "text/plain": [
       "                                                                                                         Headline  \\\n",
       "0                                       Biden admin trying to reverse all of Trump's accomplishments: Tammy Bruce   \n",
       "1                            Chip Roy: Fentanyl overdoses skyrocketing because Biden refuses to secure the border   \n",
       "2                                           Immunologist analyzes messaging from Biden administration on vaccines   \n",
       "3                                  Biden admin throws full force of federal government at state over abortion law   \n",
       "4                  Biden officials praised Bergdahl prisoner swap that released terrorists now in Taliban cabinet   \n",
       "..                                                                                                            ...   \n",
       "167  Jason Chaffetz: If Biden, Dems' $3.5T cradle-to-grave welfare state happens here's what America will be like   \n",
       "168              Rep. Mike Turner: Biden's failed Afghanistan drone strike begs questions Gen. Milley must answer   \n",
       "169                       Greg Gutfeld: What happened to the adults we were promised in the Biden administration?   \n",
       "170                               Biden team 'clearly' didn't listen to military commanders on Afghanistan: Grant   \n",
       "171                                                Border counties to sue Biden for 'failure to enforce the laws'   \n",
       "\n",
       "     Polarity  Subjectivity  \n",
       "0    0.000000      0.000000  \n",
       "1    0.370000      0.600000  \n",
       "2    0.000000      0.000000  \n",
       "3    0.175000      0.550000  \n",
       "4   -0.329850      0.000000  \n",
       "..        ...           ...  \n",
       "167  0.180600      0.000000  \n",
       "168 -0.542950      0.300000  \n",
       "169  0.180600      0.000000  \n",
       "170  0.180600      0.241667  \n",
       "171 -0.413633      0.300000  \n",
       "\n",
       "[172 rows x 3 columns]"
      ]
     },
     "execution_count": 15,
     "metadata": {},
     "output_type": "execute_result"
    }
   ],
   "source": [
    "\n",
    "#for headline in df['Headline']:\n",
    "    #if 'Afghanistan' and 'Biden' in word_tokenize(str(headline)):\n",
    "        #biden.append(headline)\n",
    "    #elif 'America' in word_tokenize(str(headline)):\n",
    "        #biden.append(headline)\n",
    "    #if 'Biden' in word_tokenize(str(headline)):\n",
    "        #biden.append(headline)\n",
    "        \n",
    "\n",
    "    #elif all(item in headline for item in list2):\n",
    "        #biden.append(headline)\n",
    "        \n",
    "        \n",
    "Biden = pd.DataFrame(biden)\n",
    "Biden.columns = ['Headline']\n",
    "Biden['Polarity_VADER'] = Biden['Headline'].apply(lambda x: vader.polarity_scores(x))\n",
    "Biden['Polarity_VADER'] = Biden['Polarity_VADER'].apply(lambda dict: dict['compound'])\n",
    "Biden['Polarity_TextBlob'] = Biden['Headline'].apply(lambda x: TextBlob(x).sentiment.polarity)\n",
    "Biden['Polarity'] = (Biden['Polarity_VADER'] + Biden['Polarity_TextBlob'])/2\n",
    "Biden = Biden.drop(columns=['Polarity_VADER','Polarity_TextBlob'])\n",
    "Biden['Subjectivity'] = Biden['Headline'].apply(lambda x: TextBlob(x).sentiment.subjectivity)\n",
    "Biden"
   ]
  },
  {
   "cell_type": "markdown",
   "id": "6ae5a896",
   "metadata": {},
   "source": [
    "Evaluate average polarity and subjectivity of topic"
   ]
  },
  {
   "cell_type": "code",
   "execution_count": 16,
   "id": "6f9427a7",
   "metadata": {},
   "outputs": [
    {
     "name": "stdout",
     "output_type": "stream",
     "text": [
      "Polarity:  -0.09769454574817946\n",
      "Subjectivity:  0.24133654862579285\n"
     ]
    },
    {
     "data": {
      "text/plain": [
       "172"
      ]
     },
     "execution_count": 16,
     "metadata": {},
     "output_type": "execute_result"
    }
   ],
   "source": [
    "avg_biden_polarity = np.mean(Biden['Polarity'])\n",
    "avg_biden_subjectivity = np.mean(Biden['Subjectivity'])\n",
    "print('Polarity: ',avg_biden_polarity)\n",
    "print('Subjectivity: ',avg_biden_subjectivity)\n",
    "len(Biden)"
   ]
  },
  {
   "cell_type": "markdown",
   "id": "34e81cac",
   "metadata": {},
   "source": [
    "Sort headlines by Subjectivity rating in descending order"
   ]
  },
  {
   "cell_type": "code",
   "execution_count": 17,
   "id": "079ae0f1",
   "metadata": {},
   "outputs": [
    {
     "data": {
      "text/html": [
       "<div>\n",
       "<style scoped>\n",
       "    .dataframe tbody tr th:only-of-type {\n",
       "        vertical-align: middle;\n",
       "    }\n",
       "\n",
       "    .dataframe tbody tr th {\n",
       "        vertical-align: top;\n",
       "    }\n",
       "\n",
       "    .dataframe thead th {\n",
       "        text-align: right;\n",
       "    }\n",
       "</style>\n",
       "<table border=\"1\" class=\"dataframe\">\n",
       "  <thead>\n",
       "    <tr style=\"text-align: right;\">\n",
       "      <th></th>\n",
       "      <th>Headline</th>\n",
       "      <th>avg_polarity</th>\n",
       "      <th>Subjectivity</th>\n",
       "    </tr>\n",
       "  </thead>\n",
       "  <tbody>\n",
       "    <tr>\n",
       "      <th>154</th>\n",
       "      <td>Justice Breyer opposes politics surrounding Supreme Court, supports one possible reform</td>\n",
       "      <td>0.42955</td>\n",
       "      <td>1.0</td>\n",
       "    </tr>\n",
       "    <tr>\n",
       "      <th>4</th>\n",
       "      <td>Cox: The recall election is necessary because California is 'sufferring'</td>\n",
       "      <td>0.00000</td>\n",
       "      <td>1.0</td>\n",
       "    </tr>\n",
       "    <tr>\n",
       "      <th>23</th>\n",
       "      <td>Democrats may go for broke this fall with their massive spending package. Will voters reward them?</td>\n",
       "      <td>0.11315</td>\n",
       "      <td>1.0</td>\n",
       "    </tr>\n",
       "    <tr>\n",
       "      <th>12</th>\n",
       "      <td>Barbara Olson fought for life until her final minutes onboard hijacked flight 77</td>\n",
       "      <td>-0.15910</td>\n",
       "      <td>1.0</td>\n",
       "    </tr>\n",
       "    <tr>\n",
       "      <th>2</th>\n",
       "      <td>Press should be outraged over Taliban's treatment of journalists: Concha</td>\n",
       "      <td>-0.72115</td>\n",
       "      <td>1.0</td>\n",
       "    </tr>\n",
       "  </tbody>\n",
       "</table>\n",
       "</div>"
      ],
      "text/plain": [
       "                                                                                               Headline  \\\n",
       "154             Justice Breyer opposes politics surrounding Supreme Court, supports one possible reform   \n",
       "4                              Cox: The recall election is necessary because California is 'sufferring'   \n",
       "23   Democrats may go for broke this fall with their massive spending package. Will voters reward them?   \n",
       "12                     Barbara Olson fought for life until her final minutes onboard hijacked flight 77   \n",
       "2                              Press should be outraged over Taliban's treatment of journalists: Concha   \n",
       "\n",
       "     avg_polarity  Subjectivity  \n",
       "154       0.42955           1.0  \n",
       "4         0.00000           1.0  \n",
       "23        0.11315           1.0  \n",
       "12       -0.15910           1.0  \n",
       "2        -0.72115           1.0  "
      ]
     },
     "execution_count": 17,
     "metadata": {},
     "output_type": "execute_result"
    }
   ],
   "source": [
    "foxy_sentiment = foxy.loc[:,['Headline','avg_polarity','Subjectivity']].sort_values('Subjectivity', ascending=False)\n",
    "foxy_sentiment.head()"
   ]
  }
 ],
 "metadata": {
  "kernelspec": {
   "display_name": "Python 3 (ipykernel)",
   "language": "python",
   "name": "python3"
  },
  "language_info": {
   "codemirror_mode": {
    "name": "ipython",
    "version": 3
   },
   "file_extension": ".py",
   "mimetype": "text/x-python",
   "name": "python",
   "nbconvert_exporter": "python",
   "pygments_lexer": "ipython3",
   "version": "3.9.7"
  }
 },
 "nbformat": 4,
 "nbformat_minor": 5
}
